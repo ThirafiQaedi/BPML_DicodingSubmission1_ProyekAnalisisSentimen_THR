{
  "nbformat": 4,
  "nbformat_minor": 0,
  "metadata": {
    "colab": {
      "provenance": []
    },
    "kernelspec": {
      "name": "python3",
      "display_name": "Python 3"
    },
    "language_info": {
      "name": "python"
    }
  },
  "cells": [
    {
      "cell_type": "code",
      "execution_count": 1,
      "metadata": {
        "colab": {
          "base_uri": "https://localhost:8080/"
        },
        "id": "j-FN6M_qZl8-",
        "outputId": "462d3830-b2fc-4de6-9f54-a727af80476e"
      },
      "outputs": [
        {
          "output_type": "stream",
          "name": "stdout",
          "text": [
            "Requirement already satisfied: google_play_scraper in /usr/local/lib/python3.11/dist-packages (1.2.7)\n"
          ]
        }
      ],
      "source": [
        "!pip install google_play_scraper"
      ]
    },
    {
      "cell_type": "code",
      "source": [
        "from google_play_scraper import app, reviews_all, reviews, Sort\n",
        "import pandas as pd"
      ],
      "metadata": {
        "id": "ZuBXiOJuZ7Tc"
      },
      "execution_count": 2,
      "outputs": []
    },
    {
      "cell_type": "code",
      "source": [
        "# Nama id paket aplikasi yang ingin di-scrape\n",
        "app_id = \"com.xiaomi.smarthome\"\n",
        "\n",
        "# Mengambil 20000 ulasan aplikasi tokopedia\n",
        "scrapreview = reviews(\n",
        "    app_id,\n",
        "    lang='id',\n",
        "    country='id',\n",
        "    sort=Sort.MOST_RELEVANT,\n",
        "    count = 20000,\n",
        ")"
      ],
      "metadata": {
        "id": "KU7BSe_FZ9cQ"
      },
      "execution_count": 3,
      "outputs": []
    },
    {
      "cell_type": "code",
      "source": [
        "# Menyimpan hasil scrap ke dalam file csv\n",
        "data = pd.DataFrame(scrapreview[0])\n",
        "data.to_csv(\"Xiaomi_Home_rv.csv\", index=False)\n",
        "print(\"Scraping selesai! Data tersimpan di 'Xiaomi_Home_rv.csv'\")"
      ],
      "metadata": {
        "colab": {
          "base_uri": "https://localhost:8080/"
        },
        "id": "jCGSmcMEaglF",
        "outputId": "41e437d3-e3a7-45b2-f36f-3c5d3dd0441b"
      },
      "execution_count": 4,
      "outputs": [
        {
          "output_type": "stream",
          "name": "stdout",
          "text": [
            "Scraping selesai! Data tersimpan di 'Xiaomi_Home_rv.csv'\n"
          ]
        }
      ]
    },
    {
      "cell_type": "code",
      "source": [
        "data.info()"
      ],
      "metadata": {
        "id": "6o_bkk_Bbv_a",
        "outputId": "19a69e29-08c7-47f0-bcb9-f0e728b4e5bf",
        "colab": {
          "base_uri": "https://localhost:8080/"
        }
      },
      "execution_count": 5,
      "outputs": [
        {
          "output_type": "stream",
          "name": "stdout",
          "text": [
            "<class 'pandas.core.frame.DataFrame'>\n",
            "RangeIndex: 15472 entries, 0 to 15471\n",
            "Data columns (total 11 columns):\n",
            " #   Column                Non-Null Count  Dtype         \n",
            "---  ------                --------------  -----         \n",
            " 0   reviewId              15472 non-null  object        \n",
            " 1   userName              15472 non-null  object        \n",
            " 2   userImage             15472 non-null  object        \n",
            " 3   content               15471 non-null  object        \n",
            " 4   score                 15472 non-null  int64         \n",
            " 5   thumbsUpCount         15472 non-null  int64         \n",
            " 6   reviewCreatedVersion  12251 non-null  object        \n",
            " 7   at                    15472 non-null  datetime64[ns]\n",
            " 8   replyContent          5 non-null      object        \n",
            " 9   repliedAt             5 non-null      datetime64[ns]\n",
            " 10  appVersion            12251 non-null  object        \n",
            "dtypes: datetime64[ns](2), int64(2), object(7)\n",
            "memory usage: 1.3+ MB\n"
          ]
        }
      ]
    }
  ]
}